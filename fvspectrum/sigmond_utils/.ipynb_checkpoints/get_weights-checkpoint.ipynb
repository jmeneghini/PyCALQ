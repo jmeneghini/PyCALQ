{
 "cells": [
  {
   "cell_type": "code",
   "execution_count": 1,
   "metadata": {},
   "outputs": [],
   "source": [
    "import xml.etree.ElementTree as ET"
   ]
  },
  {
   "cell_type": "code",
   "execution_count": 2,
   "metadata": {},
   "outputs": [],
   "source": [
    "infile = \"/latticeQCD/raid3/ahanlon/data/three_hadrons/ensembles.xml\"\n",
    "outfile = \"ensembles.xml\"\n",
    "ensemble = \"cls21_e250\""
   ]
  },
  {
   "cell_type": "code",
   "execution_count": 3,
   "metadata": {},
   "outputs": [],
   "source": [
    "intree = ET.parse(infile)\n",
    "inroot = intree.getroot()"
   ]
  },
  {
   "cell_type": "code",
   "execution_count": 4,
   "metadata": {},
   "outputs": [],
   "source": [
    "for ensemble_weight in inroot.findall('CLSEnsembleWeights/Ensemble'):\n",
    "    if ensemble_weight.find(\"Id\").text==ensemble:\n",
    "        break\n",
    "if ensemble_weight.find(\"Id\").text!=ensemble:\n",
    "    print(\"Could not find ensemble weights\")"
   ]
  },
  {
   "cell_type": "code",
   "execution_count": 5,
   "metadata": {},
   "outputs": [],
   "source": [
    "weights = ensemble_weight.find(\"Weights\").text"
   ]
  },
  {
   "cell_type": "code",
   "execution_count": 7,
   "metadata": {},
   "outputs": [],
   "source": [
    "parsed_weights = [weight.strip() for weight in weights.strip().split('\\n')]"
   ]
  },
  {
   "cell_type": "code",
   "execution_count": 11,
   "metadata": {},
   "outputs": [],
   "source": [
    "Nblock = 6\n",
    "new_weights = \"\"\n",
    "for i in range(0,len(parsed_weights),Nblock):\n",
    "    if i>(len(parsed_weights)-Nblock):\n",
    "        new_weights+=\" \".join(parsed_weights[i:])\n",
    "    else:\n",
    "        new_weights+=\" \".join(parsed_weights[i:i+Nblock])\n",
    "    new_weights+=\"\\n        \"\n",
    "        \n"
   ]
  },
  {
   "cell_type": "code",
   "execution_count": 14,
   "metadata": {},
   "outputs": [],
   "source": [
    "ensemble_weight.find(\"Weights\").text = new_weights"
   ]
  },
  {
   "cell_type": "code",
   "execution_count": 15,
   "metadata": {},
   "outputs": [],
   "source": [
    "outtree = ET.parse(outfile)"
   ]
  },
  {
   "cell_type": "code",
   "execution_count": 16,
   "metadata": {},
   "outputs": [],
   "source": [
    "outroot = outtree.getroot()"
   ]
  },
  {
   "cell_type": "code",
   "execution_count": 17,
   "metadata": {},
   "outputs": [],
   "source": [
    "all_weights = outroot.find(\"CLSEnsembleWeights\")\n",
    "all_weights.append(ensemble_weight)\n",
    "outtree.write(\"ensembles2.yml\")"
   ]
  },
  {
   "cell_type": "code",
   "execution_count": null,
   "metadata": {},
   "outputs": [],
   "source": []
  }
 ],
 "metadata": {
  "kernelspec": {
   "display_name": "Python 3 (ipykernel)",
   "language": "python",
   "name": "python3"
  },
  "language_info": {
   "codemirror_mode": {
    "name": "ipython",
    "version": 3
   },
   "file_extension": ".py",
   "mimetype": "text/x-python",
   "name": "python",
   "nbconvert_exporter": "python",
   "pygments_lexer": "ipython3",
   "version": "3.10.13"
  }
 },
 "nbformat": 4,
 "nbformat_minor": 2
}
